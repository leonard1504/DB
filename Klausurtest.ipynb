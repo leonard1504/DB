{
 "cells": [
  {
   "cell_type": "markdown",
   "id": "c558fbee",
   "metadata": {},
   "source": [
    "# Dies ist der Klausurtest\n",
    "Aufgabe: erstelle ein Programm, das die bereitgestellten CSV-Datei einliest\n",
    "und lowercase am Bildschirm ausgibt, und Zeile f. Zeile mit der jeweiligen Anzahl von Worten\n",
    "in der jeweiligen Zeile am Anfang.\n",
    "Bsp: Die Zeile \"hEllo World\" soll folgendermassen am Bildschirm ausgegeben werden:\n",
    "\n",
    "2 hello world"
   ]
  },
  {
   "cell_type": "code",
   "execution_count": 1,
   "id": "c0a6e55c-98e6-4318-81f4-3896bf498b47",
   "metadata": {},
   "outputs": [
    {
     "name": "stderr",
     "output_type": "stream",
     "text": [
      "Setting default log level to \"WARN\".\n",
      "To adjust logging level use sc.setLogLevel(newLevel). For SparkR, use setLogLevel(newLevel).\n"
     ]
    },
    {
     "name": "stdout",
     "output_type": "stream",
     "text": [
      "22/12/19 10:37:22 WARN NativeCodeLoader: Unable to load native-hadoop library for your platform... using builtin-java classes where applicable\n"
     ]
    }
   ],
   "source": [
    "from pyspark.sql import SparkSession\n",
    "spark = SparkSession.builder \\\n",
    "      .master(\"local[1]\") \\\n",
    "      .appName(\"Datenbanken mit Spark\") \\\n",
    "      .getOrCreate() # getOrCreate liefert existierende Session wenn es schon eine gibt"
   ]
  },
  {
   "cell_type": "code",
   "execution_count": 2,
   "id": "20d1a2a1-8694-48d9-9332-e82f875d71c9",
   "metadata": {},
   "outputs": [
    {
     "data": {
      "text/html": [
       "\n",
       "            <div>\n",
       "                <p><b>SparkSession - in-memory</b></p>\n",
       "                \n",
       "        <div>\n",
       "            <p><b>SparkContext</b></p>\n",
       "\n",
       "            <p><a href=\"http://localhost:4040\">Spark UI</a></p>\n",
       "\n",
       "            <dl>\n",
       "              <dt>Version</dt>\n",
       "                <dd><code>v3.3.1</code></dd>\n",
       "              <dt>Master</dt>\n",
       "                <dd><code>local[1]</code></dd>\n",
       "              <dt>AppName</dt>\n",
       "                <dd><code>Datenbanken mit Spark</code></dd>\n",
       "            </dl>\n",
       "        </div>\n",
       "        \n",
       "            </div>\n",
       "        "
      ],
      "text/plain": [
       "<pyspark.sql.session.SparkSession at 0x7f78050e7b20>"
      ]
     },
     "execution_count": 2,
     "metadata": {},
     "output_type": "execute_result"
    }
   ],
   "source": [
    "spark"
   ]
  },
  {
   "cell_type": "code",
   "execution_count": 52,
   "id": "720d1243-1553-46aa-8d8a-5f7aa4a2f771",
   "metadata": {},
   "outputs": [],
   "source": [
    "textFile = spark.read.csv(\"Klausurtest.csv\", sep=\",\")"
   ]
  },
  {
   "cell_type": "code",
   "execution_count": 53,
   "id": "9a1c0c78-b274-4e46-90c7-e07384f5e82a",
   "metadata": {},
   "outputs": [
    {
     "name": "stdout",
     "output_type": "stream",
     "text": [
      "+------------------------------+----+\n",
      "|_c0                           |_c1 |\n",
      "+------------------------------+----+\n",
      "|5 mal werden Wir noch wach    |    |\n",
      "|Heißa dann ist Weihnachtsnacht|null|\n",
      "+------------------------------+----+\n",
      "\n"
     ]
    }
   ],
   "source": [
    "textFile.show(30, truncate=False)"
   ]
  },
  {
   "cell_type": "code",
   "execution_count": 69,
   "id": "30639ab7-c9a0-4e50-9bd9-0127dabf220d",
   "metadata": {},
   "outputs": [],
   "source": [
    "from pyspark.sql.functions import lower, col, split, size, array\n",
    "words_lower = textFile.select(lower(col(\"_c0\")).alias(\"word_lower\"))"
   ]
  },
  {
   "cell_type": "code",
   "execution_count": 72,
   "id": "f4472ac4-b697-4bda-84f9-7d43e16ec422",
   "metadata": {},
   "outputs": [
    {
     "name": "stdout",
     "output_type": "stream",
     "text": [
      "+------------------------------+----+\n",
      "|word_lower                    |size|\n",
      "+------------------------------+----+\n",
      "|5 mal werden wir noch wach    |6   |\n",
      "|heißa dann ist weihnachtsnacht|4   |\n",
      "+------------------------------+----+\n",
      "\n"
     ]
    }
   ],
   "source": [
    "count = words_lower.withColumn(\"size\", size(split(words_lower.word_lower, \" \")))\n",
    "count.show(truncate=False)"
   ]
  },
  {
   "cell_type": "code",
   "execution_count": 78,
   "id": "7d2d46fe-d76c-4599-a52c-4aad7d41bb3c",
   "metadata": {},
   "outputs": [
    {
     "name": "stdout",
     "output_type": "stream",
     "text": [
      "+------------------------------+----+\n",
      "|word_lower                    |size|\n",
      "+------------------------------+----+\n",
      "|5 mal werden wir noch wach    |6   |\n",
      "|heißa dann ist weihnachtsnacht|4   |\n",
      "+------------------------------+----+\n",
      "\n"
     ]
    }
   ],
   "source": [
    "import pyspark.sql.functions as F\n",
    "result = (\n",
    "    spark.read.csv(\"Klausurtest.csv\", sep=\",\")\n",
    "    .select(F.lower(F.col(\"_c0\")).alias(\"word_lower\"))\n",
    "    .withColumn(\"size\", size(split(F.col(\"word_lower\"), \" \")))\n",
    "    .show(truncate=False)\n",
    ")"
   ]
  }
 ],
 "metadata": {
  "kernelspec": {
   "display_name": "Python 3 (ipykernel)",
   "language": "python",
   "name": "python3"
  },
  "language_info": {
   "codemirror_mode": {
    "name": "ipython",
    "version": 3
   },
   "file_extension": ".py",
   "mimetype": "text/x-python",
   "name": "python",
   "nbconvert_exporter": "python",
   "pygments_lexer": "ipython3",
   "version": "3.10.8"
  }
 },
 "nbformat": 4,
 "nbformat_minor": 5
}
