{
 "cells": [
  {
   "cell_type": "code",
   "execution_count": 47,
   "id": "4e4b298b-a0a8-4939-bba0-d3448c134dfb",
   "metadata": {},
   "outputs": [
    {
     "data": {
      "text/plain": [
       "Promise { <pending> }"
      ]
     },
     "execution_count": 47,
     "metadata": {},
     "output_type": "execute_result"
    },
    {
     "name": "stdout",
     "output_type": "stream",
     "text": [
      "Connected!\n"
     ]
    }
   ],
   "source": [
    "// https://flaviocopes.com/how-to-use-redis-nodejs/\n",
    "const redis = require('redis');\n",
    "const client = redis.createClient();\n",
    "\n",
    "client.on('connect', function() {\n",
    "  console.log('Connected!');\n",
    "});\n",
    "\n",
    "client.connect();"
   ]
  },
  {
   "cell_type": "code",
   "execution_count": 12,
   "id": "0ff5ca4e-7ee9-49d4-a7fe-816d5d4f66c2",
   "metadata": {},
   "outputs": [
    {
     "data": {
      "text/plain": [
       "Commander {\n",
       "  _events: [Object: null prototype] {\n",
       "    connect: [Function (anonymous)],\n",
       "    error: [Function (anonymous)]\n",
       "  },\n",
       "  _eventsCount: 2,\n",
       "  _maxListeners: undefined,\n",
       "  commandOptions: [Function: commandOptions],\n",
       "  select: [AsyncFunction: SELECT],\n",
       "  subscribe: [Function: SUBSCRIBE],\n",
       "  pSubscribe: [Function: PSUBSCRIBE],\n",
       "  unsubscribe: [Function: UNSUBSCRIBE],\n",
       "  pUnsubscribe: [Function: PUNSUBSCRIBE],\n",
       "  quit: [Function: QUIT],\n",
       "  multi: [Function: MULTI],\n",
       "  bf: {},\n",
       "  cms: {},\n",
       "  cf: {},\n",
       "  tDigest: {},\n",
       "  topK: {},\n",
       "  graph: {},\n",
       "  json: {},\n",
       "  ft: {},\n",
       "  ts: {},\n",
       "  [Symbol(kCapture)]: false\n",
       "}"
      ]
     },
     "execution_count": 12,
     "metadata": {},
     "output_type": "execute_result"
    }
   ],
   "source": [
    "client.on('error', (err) => console.log('Redis Client Error', err));\n",
    "\n",
    "let iterations = [1, 10, 100, 1000, 10000, 100000];\n",
    "let writeTestresults, readTestresults;\n",
    "let results = [];"
   ]
  },
  {
   "cell_type": "code",
   "execution_count": null,
   "id": "7b8bb088-2c50-4423-8c68-4f1ec005583b",
   "metadata": {},
   "outputs": [],
   "source": [
    "async function writeClient(iteration) {\n",
    "    for(let i = 0; i<iteration; i++) {\n",
    "        await client.set(`${i}`, `${i}`);\n",
    "    }\n",
    "}\n",
    "\n",
    "async function readClient(iteration) {\n",
    "    for(let i = 0; i<iteration; i++) {\n",
    "        await console.log(await client.get(`${i}`));\n",
    "    }\n",
    "}\n",
    "\n",
    "async function testPerformance() {\n",
    "    await client.connect();\n",
    "    for(iteration of iterations) {\n",
    "        const write_start = performance.now();\n",
    "        await writeClient(iteration);\n",
    "        const write_end = performance.now();\n",
    "        console.log(`Write time for ${iteration} entries: ${write_end - write_start} ms`);\n",
    "        writeTestresults = write_end - write_start;\n",
    "\n",
    "        const read_start = performance.now();\n",
    "        await readClient(iteration);\n",
    "        const read_end = performance.now();\n",
    "        console.log(`Read time for ${iteration} entries: ${read_end - read_start} ms \\n`);\n",
    "        readTestresults = read_end - read_start;\n",
    "\n",
    "        for(let i = 0; i < iteration; i++) {\n",
    "            await client.del(`${i}`);\n",
    "        }\n",
    "\n",
    "        let performanceResults = {\n",
    "            iterations: iteration,\n",
    "            writeTime: writeTestresults,\n",
    "            readTime: readTestresults\n",
    "        }\n",
    "        results.push(performanceResults);\n",
    "    }\n",
    "    await client.disconnect();\n",
    "}\n",
    "\n",
    "testPerformance();"
   ]
  },
  {
   "cell_type": "code",
   "execution_count": 76,
   "id": "dcad5c26-bd56-4161-ba3f-01741fd03534",
   "metadata": {},
   "outputs": [
    {
     "data": {
      "text/plain": [
       "Promise { <pending> }"
      ]
     },
     "execution_count": 76,
     "metadata": {},
     "output_type": "execute_result"
    },
    {
     "name": "stdout",
     "output_type": "stream",
     "text": [
      "ReactJS\n",
      "[Object: null prototype] {\n",
      "  javascript: 'ReactJS',\n",
      "  css: 'TailwindCSS',\n",
      "  node: 'Express'\n",
      "}\n",
      "[ 'ReactJS', 'Angular' ]\n",
      "[ 'VueJS', 'Svelte', 'ReactJS', 'Angular' ]\n",
      "Exists!\n",
      "6\n"
     ]
    }
   ],
   "source": [
    "async function RedisFunctions() {\n",
    "    // Strings\n",
    "    client.set('framework', 'ReactJS') \n",
    "    \n",
    "    let reply = await client.get('framework')\n",
    "    console.log(reply); // ReactJS\n",
    "\n",
    "    // Hashes\n",
    "    client.hSet('frameworks_hash', ['javascript', 'ReactJS', 'css', 'TailwindCSS', 'node', 'Express']);\n",
    "    let object = await client.hGetAll('frameworks_hash')\n",
    "    console.log(object); // { javascript: 'ReactJS', css: 'TailwindCSS', node: 'Express' }\n",
    "\n",
    "    // Lists\n",
    "\n",
    "    client.rPush('frameworks_list', ['ReactJS', 'Angular'])\n",
    "    reply = await client.lRange('frameworks_list', 0, -1)\n",
    "    console.log(reply); // [ 'ReactJS', 'Angular' ]*/\n",
    "\n",
    "    // Sets\n",
    "\n",
    "    client.sAdd('frameworks_set', ['ReactJS', 'Angular', 'Svelte', 'VueJS', 'VueJS'])\n",
    "    let member = await client.sMembers('frameworks_set')\n",
    "    console.log(member); // [ 'Angular', 'ReactJS', 'VueJS', 'Svelte' ]\n",
    "\n",
    "    // Check the existence of a key\n",
    "\n",
    "    reply = await client.exists('framework')\n",
    "    \n",
    "    if (reply === 1) {\n",
    "        console.log('Exists!');\n",
    "    } else {\n",
    "        console.log('Doesn\\'t exist!');\n",
    "    }\n",
    "\n",
    "    // Delete a key\n",
    "\n",
    "    client.del('frameworks_list')\n",
    "\n",
    "    // Increment a key\n",
    "\n",
    "    client.set('working_days', 5)\n",
    "    reply = await client.incr('working_days')\n",
    "    console.log(reply); // 6\n",
    "}\n",
    "RedisFunctions()"
   ]
  },
  {
   "cell_type": "code",
   "execution_count": 68,
   "id": "9c3395e8-8372-479f-92d0-6c1f490d0355",
   "metadata": {},
   "outputs": [
    {
     "data": {
      "text/plain": [
       "Promise { <pending> }"
      ]
     },
     "execution_count": 68,
     "metadata": {},
     "output_type": "execute_result"
    },
    {
     "name": "stdout",
     "output_type": "stream",
     "text": [
      "[ 'Roger', 'Flavio', 'Syd' ]\n"
     ]
    }
   ],
   "source": [
    "async function members() {\n",
    "    const names = ['Flavio', 'Roger', 'Syd']\n",
    "    client.sAdd('names', names)\n",
    "    let member = await client.sMembers('names')\n",
    "    console.log(member)\n",
    "}\n",
    "members()"
   ]
  },
  {
   "cell_type": "code",
   "execution_count": null,
   "id": "1606b7b6-758d-4856-8b6c-6682db63fb6a",
   "metadata": {},
   "outputs": [],
   "source": []
  }
 ],
 "metadata": {
  "kernelspec": {
   "display_name": "JavaScript (Node.js)",
   "language": "javascript",
   "name": "javascript"
  },
  "language_info": {
   "file_extension": ".js",
   "mimetype": "application/javascript",
   "name": "javascript",
   "version": "19.2.0"
  }
 },
 "nbformat": 4,
 "nbformat_minor": 5
}
