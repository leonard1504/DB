{
 "cells": [
  {
   "cell_type": "code",
   "execution_count": 1,
   "id": "673cdd78",
   "metadata": {},
   "outputs": [],
   "source": [
    "from pyspark.sql import SparkSession\n",
    "\n",
    "spark = SparkSession.builder \\\n",
    "        .master(\"local[1]\") \\\n",
    "        .appName(\"SparkDB\") \\\n",
    "        .getOrCreate()"
   ]
  },
  {
   "cell_type": "code",
   "execution_count": 7,
   "id": "b7a08a0b",
   "metadata": {
    "scrolled": true
   },
   "outputs": [
    {
     "data": {
      "text/html": [
       "\n",
       "            <div>\n",
       "                <p><b>SparkSession - in-memory</b></p>\n",
       "                \n",
       "        <div>\n",
       "            <p><b>SparkContext</b></p>\n",
       "\n",
       "            <p><a href=\"http://33140c833cae:4040\">Spark UI</a></p>\n",
       "\n",
       "            <dl>\n",
       "              <dt>Version</dt>\n",
       "                <dd><code>v3.3.1</code></dd>\n",
       "              <dt>Master</dt>\n",
       "                <dd><code>local[1]</code></dd>\n",
       "              <dt>AppName</dt>\n",
       "                <dd><code>SparkDB</code></dd>\n",
       "            </dl>\n",
       "        </div>\n",
       "        \n",
       "            </div>\n",
       "        "
      ],
      "text/plain": [
       "<pyspark.sql.session.SparkSession at 0x7fbde3e31f90>"
      ]
     },
     "execution_count": 7,
     "metadata": {},
     "output_type": "execute_result"
    }
   ],
   "source": [
    "spark"
   ]
  },
  {
   "cell_type": "code",
   "execution_count": 10,
   "id": "8e39523d",
   "metadata": {},
   "outputs": [
    {
     "name": "stdout",
     "output_type": "stream",
     "text": [
      ".profile\n",
      ".bash_logout\n",
      ".bashrc\n",
      "PySpark.ipynb\n",
      "studibier.csv\n",
      ".wget-hsts\n",
      "fontlist-v330.json\n",
      "PySpark-checkpoint.ipynb\n",
      "nbsignatures.db\n",
      "notebook_secret\n",
      "notebook_cookie_secret\n",
      "nbserver-7-open.html\n",
      "nbserver-7.json\n",
      "kernel-c81168ba-715e-49d1-93e5-f13eced42cdc.json\n",
      "history.sqlite\n",
      "history.sqlite-journal\n",
      "README\n",
      "environments.txt\n",
      "2022-12-05T03_08_27_542Z-debug-0.log\n",
      "jupyter_notebook_config.py\n"
     ]
    }
   ],
   "source": [
    "import os\n",
    "for subdir, dirs, files in os.walk('./'):\n",
    "    for file in files:\n",
    "        print(file)"
   ]
  },
  {
   "cell_type": "code",
   "execution_count": 11,
   "id": "052391f4",
   "metadata": {},
   "outputs": [
    {
     "name": "stdout",
     "output_type": "stream",
     "text": [
      "PySpark.ipynb  studibier.csv  work\r\n"
     ]
    }
   ],
   "source": [
    "!ls"
   ]
  },
  {
   "cell_type": "code",
   "execution_count": 12,
   "id": "b79fd53a",
   "metadata": {},
   "outputs": [
    {
     "name": "stdout",
     "output_type": "stream",
     "text": [
      "/home/jovyan\r\n"
     ]
    }
   ],
   "source": [
    "!pwd"
   ]
  },
  {
   "cell_type": "code",
   "execution_count": 13,
   "id": "3910f793",
   "metadata": {},
   "outputs": [],
   "source": [
    "textFile = spark.read.text(\"PySpark.ipynb\")"
   ]
  },
  {
   "cell_type": "code",
   "execution_count": 14,
   "id": "7163b399",
   "metadata": {},
   "outputs": [
    {
     "data": {
      "text/plain": [
       "172"
      ]
     },
     "execution_count": 14,
     "metadata": {},
     "output_type": "execute_result"
    }
   ],
   "source": [
    "textFile.count()"
   ]
  },
  {
   "cell_type": "code",
   "execution_count": 15,
   "id": "1331567a",
   "metadata": {},
   "outputs": [
    {
     "data": {
      "text/plain": [
       "Row(value='{')"
      ]
     },
     "execution_count": 15,
     "metadata": {},
     "output_type": "execute_result"
    }
   ],
   "source": [
    "textFile.first()"
   ]
  },
  {
   "cell_type": "code",
   "execution_count": 16,
   "id": "cc6773a0",
   "metadata": {},
   "outputs": [
    {
     "name": "stdout",
     "output_type": "stream",
     "text": [
      "+--------------------+\n",
      "|               value|\n",
      "+--------------------+\n",
      "|                   {|\n",
      "|          \"cells\": [|\n",
      "|                   {|\n",
      "|   \"cell_type\": \"...|\n",
      "|   \"execution_cou...|\n",
      "|   \"id\": \"6618fc77\",|\n",
      "|     \"metadata\": {},|\n",
      "|      \"outputs\": [],|\n",
      "|         \"source\": [|\n",
      "|    \"from pyspark...|\n",
      "|               \"\\n\",|\n",
      "|    \"spark = Spar...|\n",
      "|    \"        .mas...|\n",
      "|    \"        .app...|\n",
      "|    \"        .get...|\n",
      "|                   ]|\n",
      "|                  },|\n",
      "|                   {|\n",
      "|   \"cell_type\": \"...|\n",
      "|   \"execution_cou...|\n",
      "+--------------------+\n",
      "only showing top 20 rows\n",
      "\n"
     ]
    }
   ],
   "source": [
    "textFile.show()"
   ]
  },
  {
   "cell_type": "code",
   "execution_count": 17,
   "id": "03ca490b",
   "metadata": {},
   "outputs": [
    {
     "name": "stdout",
     "output_type": "stream",
     "text": [
      "Name, Lieblingsbier, Alter\r\n",
      "James, Weizen, 23\r\n",
      "Money Penny, Brut IPA, 24\r\n",
      "Lara, NEIPA, 22\r\n",
      "Finn, Chimais, 17\r\n",
      "Peter, NEIPA, 16\r\n",
      "Jane, NEIPA, 22\r\n"
     ]
    }
   ],
   "source": [
    "!cat studibier.csv"
   ]
  },
  {
   "cell_type": "code",
   "execution_count": 26,
   "id": "aaae4132",
   "metadata": {},
   "outputs": [],
   "source": [
    "df_sbier = spark.read.option(\"header\", \"true\").csv(\"studibier.csv\")"
   ]
  },
  {
   "cell_type": "code",
   "execution_count": 27,
   "id": "9928651d",
   "metadata": {},
   "outputs": [
    {
     "name": "stdout",
     "output_type": "stream",
     "text": [
      "+-----------+--------------+------+\n",
      "|       Name| Lieblingsbier| Alter|\n",
      "+-----------+--------------+------+\n",
      "|      James|        Weizen|    23|\n",
      "|Money Penny|      Brut IPA|    24|\n",
      "|       Lara|         NEIPA|    22|\n",
      "|       Finn|       Chimais|    17|\n",
      "|      Peter|         NEIPA|    16|\n",
      "|       Jane|         NEIPA|    22|\n",
      "+-----------+--------------+------+\n",
      "\n"
     ]
    }
   ],
   "source": [
    "df_sbier.show()"
   ]
  },
  {
   "cell_type": "code",
   "execution_count": 36,
   "id": "dc354233",
   "metadata": {},
   "outputs": [
    {
     "name": "stdout",
     "output_type": "stream",
     "text": [
      "it's a string\n"
     ]
    }
   ],
   "source": [
    "if df_sbier.dtypes[1][1] == 'string':\n",
    "    print(\"it's a string\")"
   ]
  },
  {
   "cell_type": "code",
   "execution_count": 37,
   "id": "62649ad8",
   "metadata": {},
   "outputs": [
    {
     "data": {
      "text/plain": [
       "[('Name', 'string'), (' Lieblingsbier', 'string'), (' Alter', 'string')]"
      ]
     },
     "execution_count": 37,
     "metadata": {},
     "output_type": "execute_result"
    }
   ],
   "source": [
    "df_sbier.dtypes"
   ]
  },
  {
   "cell_type": "code",
   "execution_count": 3,
   "id": "842e9164",
   "metadata": {},
   "outputs": [],
   "source": [
    "df_sbier = spark.read.csv(\"studibier.csv\", header=True, inferSchema=True)"
   ]
  },
  {
   "cell_type": "code",
   "execution_count": 115,
   "id": "206204f7",
   "metadata": {},
   "outputs": [
    {
     "name": "stdout",
     "output_type": "stream",
     "text": [
      "+-----------+--------------+------+\n",
      "|       Name| Lieblingsbier| Alter|\n",
      "+-----------+--------------+------+\n",
      "|      James|        Weizen|  23.0|\n",
      "|Money Penny|      Brut IPA|  24.0|\n",
      "|       Lara|         NEIPA|  22.0|\n",
      "|       Finn|       Chimais|  17.0|\n",
      "|      Peter|         NEIPA|  16.0|\n",
      "|       Jane|         NEIPA|  22.0|\n",
      "+-----------+--------------+------+\n",
      "\n"
     ]
    }
   ],
   "source": [
    "df_sbier.show()"
   ]
  },
  {
   "cell_type": "code",
   "execution_count": 41,
   "id": "0a348654",
   "metadata": {},
   "outputs": [
    {
     "data": {
      "text/plain": [
       "[('Name', 'string'), (' Lieblingsbier', 'string'), (' Alter', 'double')]"
      ]
     },
     "execution_count": 41,
     "metadata": {},
     "output_type": "execute_result"
    }
   ],
   "source": [
    "df_sbier.dtypes"
   ]
  },
  {
   "cell_type": "code",
   "execution_count": 42,
   "id": "a08e2b88",
   "metadata": {},
   "outputs": [
    {
     "data": {
      "text/plain": [
       "['Name', ' Lieblingsbier', ' Alter']"
      ]
     },
     "execution_count": 42,
     "metadata": {},
     "output_type": "execute_result"
    }
   ],
   "source": [
    "df_sbier.columns"
   ]
  },
  {
   "cell_type": "code",
   "execution_count": 49,
   "id": "c3770abf",
   "metadata": {},
   "outputs": [
    {
     "name": "stdout",
     "output_type": "stream",
     "text": [
      "+--------------+\n",
      "| Lieblingsbier|\n",
      "+--------------+\n",
      "|       Chimais|\n",
      "|      Brut IPA|\n",
      "|         NEIPA|\n",
      "|        Weizen|\n",
      "+--------------+\n",
      "\n"
     ]
    }
   ],
   "source": [
    "df_sbier.select(\" Lieblingsbier\").distinct().show()"
   ]
  },
  {
   "cell_type": "code",
   "execution_count": 54,
   "id": "87e6e212",
   "metadata": {},
   "outputs": [
    {
     "name": "stdout",
     "output_type": "stream",
     "text": [
      "+------+\n",
      "| Alter|\n",
      "+------+\n",
      "|  23.0|\n",
      "|  24.0|\n",
      "|  22.0|\n",
      "|  17.0|\n",
      "|  16.0|\n",
      "|  22.0|\n",
      "+------+\n",
      "\n"
     ]
    }
   ],
   "source": [
    "df_sbier.select(\" Alter\").show()"
   ]
  },
  {
   "cell_type": "code",
   "execution_count": 56,
   "id": "5cac1c52",
   "metadata": {
    "scrolled": true
   },
   "outputs": [
    {
     "name": "stdout",
     "output_type": "stream",
     "text": [
      "+------------------+\n",
      "|        avg(Alter)|\n",
      "+------------------+\n",
      "|20.666666666666668|\n",
      "+------------------+\n",
      "\n"
     ]
    }
   ],
   "source": [
    "df_sbier.withColumnRenamed(\" Alter\", \"Alter\").agg({\"Alter\": \"avg\"}).show()"
   ]
  },
  {
   "cell_type": "code",
   "execution_count": 57,
   "id": "16ee4384",
   "metadata": {},
   "outputs": [
    {
     "name": "stdout",
     "output_type": "stream",
     "text": [
      "+------------------+\n",
      "|       avg( Alter)|\n",
      "+------------------+\n",
      "|20.666666666666668|\n",
      "+------------------+\n",
      "\n"
     ]
    }
   ],
   "source": [
    "df_sbier.agg({\" Alter\": \"avg\"}).show()"
   ]
  },
  {
   "cell_type": "code",
   "execution_count": 58,
   "id": "48be9da3",
   "metadata": {},
   "outputs": [
    {
     "name": "stdout",
     "output_type": "stream",
     "text": [
      "+------------------+\n",
      "|       avg( Alter)|\n",
      "+------------------+\n",
      "|20.666666666666668|\n",
      "+------------------+\n",
      "\n"
     ]
    }
   ],
   "source": [
    "df_sbier.agg({\" Alter\": \"avg\"}).distinct().show()"
   ]
  },
  {
   "cell_type": "code",
   "execution_count": 60,
   "id": "78a982dd",
   "metadata": {},
   "outputs": [
    {
     "name": "stdout",
     "output_type": "stream",
     "text": [
      "+--------------+------+\n",
      "| Lieblingsbier| Alter|\n",
      "+--------------+------+\n",
      "|        Weizen|  23.0|\n",
      "|      Brut IPA|  24.0|\n",
      "|         NEIPA|  22.0|\n",
      "|       Chimais|  17.0|\n",
      "|         NEIPA|  16.0|\n",
      "|         NEIPA|  22.0|\n",
      "+--------------+------+\n",
      "\n"
     ]
    }
   ],
   "source": [
    "df_sbier.select([\" Lieblingsbier\", \" Alter\"]).show()"
   ]
  },
  {
   "cell_type": "code",
   "execution_count": 61,
   "id": "467f69a0",
   "metadata": {},
   "outputs": [
    {
     "name": "stdout",
     "output_type": "stream",
     "text": [
      "+--------------+------+\n",
      "| Lieblingsbier| Alter|\n",
      "+--------------+------+\n",
      "|         NEIPA|  22.0|\n",
      "|         NEIPA|  16.0|\n",
      "|        Weizen|  23.0|\n",
      "|      Brut IPA|  24.0|\n",
      "|       Chimais|  17.0|\n",
      "+--------------+------+\n",
      "\n"
     ]
    }
   ],
   "source": [
    "df_sbier.select([\" Lieblingsbier\", \" Alter\"]).distinct().show()"
   ]
  },
  {
   "cell_type": "code",
   "execution_count": 4,
   "id": "8b19479a",
   "metadata": {},
   "outputs": [
    {
     "name": "stdout",
     "output_type": "stream",
     "text": [
      "+-----------+--------------+------+-------------------+----+\n",
      "|       Name| Lieblingsbier| Alter|Alter nach 2 Jahren|Eins|\n",
      "+-----------+--------------+------+-------------------+----+\n",
      "|      James|        Weizen|  23.0|               25.0|   1|\n",
      "|Money Penny|      Brut IPA|  24.0|               26.0|   1|\n",
      "|       Lara|         NEIPA|  22.0|               24.0|   1|\n",
      "|       Finn|       Chimais|  17.0|               19.0|   1|\n",
      "|      Peter|         NEIPA|  16.0|               18.0|   1|\n",
      "|       Jane|         NEIPA|  22.0|               24.0|   1|\n",
      "+-----------+--------------+------+-------------------+----+\n",
      "\n"
     ]
    }
   ],
   "source": [
    "from pyspark.sql.functions import lit\n",
    "df_sbier.withColumn('Alter nach 2 Jahren', df_sbier[' Alter']+2).withColumn('Eins', lit(1)).show()"
   ]
  },
  {
   "cell_type": "code",
   "execution_count": 6,
   "id": "bfc315af",
   "metadata": {},
   "outputs": [],
   "source": [
    "df_sbierMitMuell = df_sbier.withColumn('Alter nach 2 Jahren', df_sbier[' Alter']+2).withColumn('Eins', lit(1))"
   ]
  },
  {
   "cell_type": "code",
   "execution_count": 7,
   "id": "0132950d",
   "metadata": {},
   "outputs": [
    {
     "name": "stdout",
     "output_type": "stream",
     "text": [
      "+-----------+--------------+------+-------------------+----+\n",
      "|       Name| Lieblingsbier| Alter|Alter nach 2 Jahren|Eins|\n",
      "+-----------+--------------+------+-------------------+----+\n",
      "|      James|        Weizen|  23.0|               25.0|   1|\n",
      "|Money Penny|      Brut IPA|  24.0|               26.0|   1|\n",
      "|       Lara|         NEIPA|  22.0|               24.0|   1|\n",
      "|       Finn|       Chimais|  17.0|               19.0|   1|\n",
      "|      Peter|         NEIPA|  16.0|               18.0|   1|\n",
      "|       Jane|         NEIPA|  22.0|               24.0|   1|\n",
      "+-----------+--------------+------+-------------------+----+\n",
      "\n"
     ]
    }
   ],
   "source": [
    "df_sbierMitMuell.show()"
   ]
  },
  {
   "cell_type": "code",
   "execution_count": 73,
   "id": "5de3a1b7",
   "metadata": {},
   "outputs": [
    {
     "name": "stdout",
     "output_type": "stream",
     "text": [
      "+-----------+--------------+------+-------------------+\n",
      "|       Name| Lieblingsbier| Alter|Alter nach 2 Jahren|\n",
      "+-----------+--------------+------+-------------------+\n",
      "|      James|        Weizen|  23.0|               25.0|\n",
      "|Money Penny|      Brut IPA|  24.0|               26.0|\n",
      "|       Lara|         NEIPA|  22.0|               24.0|\n",
      "|       Finn|       Chimais|  17.0|               19.0|\n",
      "|      Peter|         NEIPA|  16.0|               18.0|\n",
      "|       Jane|         NEIPA|  22.0|               24.0|\n",
      "+-----------+--------------+------+-------------------+\n",
      "\n"
     ]
    }
   ],
   "source": [
    "df_sbierMitMuell.drop(\"Eins\").show()"
   ]
  },
  {
   "cell_type": "code",
   "execution_count": 72,
   "id": "34c48fd4",
   "metadata": {},
   "outputs": [
    {
     "name": "stdout",
     "output_type": "stream",
     "text": [
      "+-----------+--------------+------+-------------------+----+\n",
      "|       Name| Lieblingsbier| Alter|Alter nach 2 Jahren|Eins|\n",
      "+-----------+--------------+------+-------------------+----+\n",
      "|      James|        Weizen|  23.0|               25.0|   1|\n",
      "|Money Penny|      Brut IPA|  24.0|               26.0|   1|\n",
      "|       Lara|         NEIPA|  22.0|               24.0|   1|\n",
      "|       Finn|       Chimais|  17.0|               19.0|   1|\n",
      "|      Peter|         NEIPA|  16.0|               18.0|   1|\n",
      "|       Jane|         NEIPA|  22.0|               24.0|   1|\n",
      "+-----------+--------------+------+-------------------+----+\n",
      "\n"
     ]
    }
   ],
   "source": [
    "df_sbierMitMuell.show()"
   ]
  },
  {
   "cell_type": "code",
   "execution_count": 13,
   "id": "1825551b",
   "metadata": {},
   "outputs": [],
   "source": [
    "nullWerteDaten = [(\"John\", None, None, 18.0, 1),(\"Birgitt\", None, 20.0, None, 1)]\n",
    "df_sbierSchema = df_sbierMitMuell.schema\n",
    "df_sbierMitNull = df_sbierMitMuell.union(spark.createDataFrame(data= nullWerteDaten, schema = df_sbierSchema)) "
   ]
  },
  {
   "cell_type": "code",
   "execution_count": 16,
   "id": "40d6a4bf",
   "metadata": {},
   "outputs": [
    {
     "name": "stdout",
     "output_type": "stream",
     "text": [
      "+-----------+--------------+------+-------------------+----+\n",
      "|       Name| Lieblingsbier| Alter|Alter nach 2 Jahren|Eins|\n",
      "+-----------+--------------+------+-------------------+----+\n",
      "|      James|        Weizen|  23.0|               25.0|   1|\n",
      "|Money Penny|      Brut IPA|  24.0|               26.0|   1|\n",
      "|       Lara|         NEIPA|  22.0|               24.0|   1|\n",
      "|       Finn|       Chimais|  17.0|               19.0|   1|\n",
      "|      Peter|         NEIPA|  16.0|               18.0|   1|\n",
      "|       Jane|         NEIPA|  22.0|               24.0|   1|\n",
      "|       John|          null|  null|               18.0|   1|\n",
      "|    Birgitt|          null|  20.0|               null|   1|\n",
      "+-----------+--------------+------+-------------------+----+\n",
      "\n",
      "+-----------+--------------+------+-------------------+----+\n",
      "|       Name| Lieblingsbier| Alter|Alter nach 2 Jahren|Eins|\n",
      "+-----------+--------------+------+-------------------+----+\n",
      "|      James|        Weizen|  23.0|               25.0|   1|\n",
      "|Money Penny|      Brut IPA|  24.0|               26.0|   1|\n",
      "|       Lara|         NEIPA|  22.0|               24.0|   1|\n",
      "|       Finn|       Chimais|  17.0|               19.0|   1|\n",
      "|      Peter|         NEIPA|  16.0|               18.0|   1|\n",
      "|       Jane|         NEIPA|  22.0|               24.0|   1|\n",
      "+-----------+--------------+------+-------------------+----+\n",
      "\n"
     ]
    }
   ],
   "source": [
    "df_sbierMitNull.show()\n",
    "df_sbierMitNull.na.drop(\"any\").show()"
   ]
  },
  {
   "cell_type": "code",
   "execution_count": null,
   "id": "f5e21a67",
   "metadata": {},
   "outputs": [],
   "source": []
  }
 ],
 "metadata": {
  "kernelspec": {
   "display_name": "Python 3 (ipykernel)",
   "language": "python",
   "name": "python3"
  },
  "language_info": {
   "codemirror_mode": {
    "name": "ipython",
    "version": 3
   },
   "file_extension": ".py",
   "mimetype": "text/x-python",
   "name": "python",
   "nbconvert_exporter": "python",
   "pygments_lexer": "ipython3",
   "version": "3.10.8"
  }
 },
 "nbformat": 4,
 "nbformat_minor": 5
}
