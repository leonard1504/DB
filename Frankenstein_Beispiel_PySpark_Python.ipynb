{
 "cells": [
  {
   "cell_type": "code",
   "execution_count": 1,
   "id": "8d703523",
   "metadata": {},
   "outputs": [],
   "source": [
    "from pyspark.sql import SparkSession\n",
    "spark = SparkSession.builder \\\n",
    "      .master(\"local[1]\") \\\n",
    "      .appName(\"Datenbanken mit Spark\") \\\n",
    "      .getOrCreate() # getOrCreate liefert existierende Session wenn es schon eine gibt"
   ]
  },
  {
   "cell_type": "code",
   "execution_count": 2,
   "id": "a0f10698",
   "metadata": {},
   "outputs": [],
   "source": [
    "textFile = spark.read.text(\"frankenstein.txt\")"
   ]
  },
  {
   "cell_type": "code",
   "execution_count": 5,
   "id": "36819067",
   "metadata": {},
   "outputs": [
    {
     "name": "stdout",
     "output_type": "stream",
     "text": [
      "DataFrame[value: string]\n"
     ]
    }
   ],
   "source": [
    "print(textFile)"
   ]
  },
  {
   "cell_type": "code",
   "execution_count": 7,
   "id": "0caeb4c4",
   "metadata": {},
   "outputs": [
    {
     "name": "stdout",
     "output_type": "stream",
     "text": [
      "root\n",
      " |-- value: string (nullable = true)\n",
      "\n"
     ]
    }
   ],
   "source": [
    "textFile.printSchema()"
   ]
  },
  {
   "cell_type": "code",
   "execution_count": 8,
   "id": "27bf1218",
   "metadata": {},
   "outputs": [
    {
     "name": "stdout",
     "output_type": "stream",
     "text": [
      "[('value', 'string')]\n"
     ]
    }
   ],
   "source": [
    "print(textFile.dtypes)"
   ]
  },
  {
   "cell_type": "code",
   "execution_count": 12,
   "id": "2d214e98",
   "metadata": {},
   "outputs": [
    {
     "name": "stdout",
     "output_type": "stream",
     "text": [
      "string\n"
     ]
    }
   ],
   "source": [
    "print(textFile.dtypes[0][1])"
   ]
  },
  {
   "cell_type": "code",
   "execution_count": 15,
   "id": "b4796094",
   "metadata": {},
   "outputs": [
    {
     "name": "stdout",
     "output_type": "stream",
     "text": [
      "+-------------------------------------------------------------------------+\n",
      "|value                                                                    |\n",
      "+-------------------------------------------------------------------------+\n",
      "|                                                                         |\n",
      "|Project Gutenberg's Frankenstein, by Mary Wollstonecraft (Godwin) Shelley|\n",
      "|                                                                         |\n",
      "|This eBook is for the use of anyone anywhere at no cost and with         |\n",
      "|almost no restrictions whatsoever.  You may copy it, give it away or     |\n",
      "|re-use it under the terms of the Project Gutenberg License included      |\n",
      "|with this eBook or online at www.gutenberg.net                           |\n",
      "|                                                                         |\n",
      "|                                                                         |\n",
      "|Title: Frankenstein                                                      |\n",
      "|       or The Modern Prometheus                                          |\n",
      "|                                                                         |\n",
      "|Author: Mary Wollstonecraft (Godwin) Shelley                             |\n",
      "|                                                                         |\n",
      "|Release Date: June 17, 2008 [EBook #84]                                  |\n",
      "|Last updated: January 13, 2018                                           |\n",
      "|                                                                         |\n",
      "|Language: English                                                        |\n",
      "|                                                                         |\n",
      "|Character set encoding: UTF-8                                            |\n",
      "|                                                                         |\n",
      "|*** START OF THIS PROJECT GUTENBERG EBOOK FRANKENSTEIN ***               |\n",
      "|                                                                         |\n",
      "|                                                                         |\n",
      "|                                                                         |\n",
      "|                                                                         |\n",
      "|Produced by Judith Boss, Christy Phillips, Lynn Hanninen,                |\n",
      "|and David Meltzer. HTML version by Al Haines.                            |\n",
      "|Further corrections by Menno de Leeuw.                                   |\n",
      "|                                                                         |\n",
      "+-------------------------------------------------------------------------+\n",
      "only showing top 30 rows\n",
      "\n"
     ]
    }
   ],
   "source": [
    "textFile.show(30, truncate=False)"
   ]
  },
  {
   "cell_type": "code",
   "execution_count": 18,
   "id": "70a68bca",
   "metadata": {},
   "outputs": [],
   "source": [
    "from pyspark.sql.functions import split"
   ]
  },
  {
   "cell_type": "code",
   "execution_count": 30,
   "id": "6b49a368",
   "metadata": {},
   "outputs": [
    {
     "name": "stdout",
     "output_type": "stream",
     "text": [
      "+--------------------------------------------------------------------------------------+\n",
      "|                                                                                 Zeile|\n",
      "+--------------------------------------------------------------------------------------+\n",
      "|                                                                                    []|\n",
      "|[Project, Gutenberg, s, Frankenstein, , by, Mary, Wollstonecraft, , Godwin, , Shelley]|\n",
      "|                                                                                    []|\n",
      "|       [This, eBook, is, for, the, use, of, anyone, anywhere, at, no, cost, and, with]|\n",
      "|  [almost, no, restrictions, whatsoever, , , You, may, copy, it, , give, it, away, or]|\n",
      "|      [re, use, it, under, the, terms, of, the, Project, Gutenberg, License, included]|\n",
      "|                              [with, this, eBook, or, online, at, www, gutenberg, net]|\n",
      "|                                                                                    []|\n",
      "|                                                                                    []|\n",
      "|                                                               [Title, , Frankenstein]|\n",
      "+--------------------------------------------------------------------------------------+\n",
      "only showing top 10 rows\n",
      "\n"
     ]
    }
   ],
   "source": [
    "lines = textFile.select(split(textFile.value, \"[^a-zA-Z]\").alias(\"Zeile\"))\n",
    "lines.show(10,truncate=100)"
   ]
  },
  {
   "cell_type": "code",
   "execution_count": 23,
   "id": "bd104b90",
   "metadata": {},
   "outputs": [
    {
     "name": "stdout",
     "output_type": "stream",
     "text": [
      "root\n",
      " |-- Zeile: array (nullable = true)\n",
      " |    |-- element: string (containsNull = false)\n",
      "\n"
     ]
    }
   ],
   "source": [
    "lines.printSchema()"
   ]
  },
  {
   "cell_type": "code",
   "execution_count": 28,
   "id": "dabe927a",
   "metadata": {},
   "outputs": [
    {
     "name": "stdout",
     "output_type": "stream",
     "text": [
      "+--------------------+\n",
      "|               Zeile|\n",
      "+--------------------+\n",
      "|                  []|\n",
      "|[Project, Gutenbe...|\n",
      "|                  []|\n",
      "|[This, eBook, is,...|\n",
      "|[almost, no, rest...|\n",
      "|[re, use, it, und...|\n",
      "|[with, this, eBoo...|\n",
      "|                  []|\n",
      "|                  []|\n",
      "|[Title, , Franken...|\n",
      "|[, , , , , , , or...|\n",
      "|                  []|\n",
      "|[Author, , Mary, ...|\n",
      "|                  []|\n",
      "|[Release, Date, ,...|\n",
      "|[Last, updated, ,...|\n",
      "|                  []|\n",
      "|[Language, , Engl...|\n",
      "|                  []|\n",
      "|[Character, set, ...|\n",
      "+--------------------+\n",
      "only showing top 20 rows\n",
      "\n",
      "+--------------------+\n",
      "|               Zeile|\n",
      "+--------------------+\n",
      "|                  []|\n",
      "|[Project, Gutenbe...|\n",
      "|                  []|\n",
      "|[This, eBook, is,...|\n",
      "|[almost, no, rest...|\n",
      "|[re, use, it, und...|\n",
      "|[with, this, eBoo...|\n",
      "|                  []|\n",
      "|                  []|\n",
      "|[Title, , Franken...|\n",
      "|[, , , , , , , or...|\n",
      "|                  []|\n",
      "|[Author, , Mary, ...|\n",
      "|                  []|\n",
      "|[Release, Date, ,...|\n",
      "|[Last, updated, ,...|\n",
      "|                  []|\n",
      "|[Language, , Engl...|\n",
      "|                  []|\n",
      "|[Character, set, ...|\n",
      "+--------------------+\n",
      "only showing top 20 rows\n",
      "\n"
     ]
    }
   ],
   "source": [
    "lines.select(lines.Zeile).show()\n",
    "lines.select(\"Zeile\").show()"
   ]
  },
  {
   "cell_type": "code",
   "execution_count": 35,
   "id": "92b94936",
   "metadata": {},
   "outputs": [
    {
     "name": "stdout",
     "output_type": "stream",
     "text": [
      "+--------------+\n",
      "|          word|\n",
      "+--------------+\n",
      "|              |\n",
      "|       Project|\n",
      "|     Gutenberg|\n",
      "|             s|\n",
      "|  Frankenstein|\n",
      "|              |\n",
      "|            by|\n",
      "|          Mary|\n",
      "|Wollstonecraft|\n",
      "|              |\n",
      "|        Godwin|\n",
      "|              |\n",
      "|       Shelley|\n",
      "|              |\n",
      "|          This|\n",
      "+--------------+\n",
      "only showing top 15 rows\n",
      "\n"
     ]
    }
   ],
   "source": [
    "from pyspark.sql.functions import explode, col\n",
    "\n",
    "words = lines.select(explode(col(\"Zeile\")).alias(\"word\"))\n",
    "words.show(15)"
   ]
  },
  {
   "cell_type": "code",
   "execution_count": 36,
   "id": "f1bb5f60",
   "metadata": {},
   "outputs": [],
   "source": [
    "from pyspark.sql.functions import lower\n",
    "words_lower = words.select(lower(col(\"word\")).alias(\"word_lower\"))"
   ]
  },
  {
   "cell_type": "code",
   "execution_count": 37,
   "id": "2bdbeada",
   "metadata": {},
   "outputs": [
    {
     "name": "stdout",
     "output_type": "stream",
     "text": [
      "+--------------+\n",
      "|word_lower    |\n",
      "+--------------+\n",
      "|              |\n",
      "|project       |\n",
      "|gutenberg     |\n",
      "|s             |\n",
      "|frankenstein  |\n",
      "|              |\n",
      "|by            |\n",
      "|mary          |\n",
      "|wollstonecraft|\n",
      "|              |\n",
      "|godwin        |\n",
      "|              |\n",
      "|shelley       |\n",
      "|              |\n",
      "|this          |\n",
      "|ebook         |\n",
      "|is            |\n",
      "|for           |\n",
      "|the           |\n",
      "|use           |\n",
      "+--------------+\n",
      "only showing top 20 rows\n",
      "\n"
     ]
    }
   ],
   "source": [
    "words_lower.show(20, truncate=False)"
   ]
  },
  {
   "cell_type": "code",
   "execution_count": 38,
   "id": "88e012dc",
   "metadata": {},
   "outputs": [
    {
     "name": "stdout",
     "output_type": "stream",
     "text": [
      "+--------------+\n",
      "|echtesWort    |\n",
      "+--------------+\n",
      "|              |\n",
      "|project       |\n",
      "|gutenberg     |\n",
      "|              |\n",
      "|frankenstein  |\n",
      "|              |\n",
      "|by            |\n",
      "|mary          |\n",
      "|wollstonecraft|\n",
      "|              |\n",
      "|godwin        |\n",
      "|              |\n",
      "|shelley       |\n",
      "|              |\n",
      "|this          |\n",
      "|ebook         |\n",
      "|is            |\n",
      "|for           |\n",
      "|the           |\n",
      "|use           |\n",
      "+--------------+\n",
      "only showing top 20 rows\n",
      "\n"
     ]
    }
   ],
   "source": [
    "from pyspark.sql.functions import regexp_extract\n",
    "words_clean = words_lower.select(regexp_extract(col(\"word_lower\"), \"[a-z]{2,}|a|i\", 0).alias(\"echtesWort\"))\n",
    "words_clean.show(20, truncate=False)"
   ]
  },
  {
   "cell_type": "code",
   "execution_count": 39,
   "id": "dbe08d35",
   "metadata": {},
   "outputs": [
    {
     "name": "stdout",
     "output_type": "stream",
     "text": [
      "+--------------+\n",
      "|    echtesWort|\n",
      "+--------------+\n",
      "|       project|\n",
      "|     gutenberg|\n",
      "|  frankenstein|\n",
      "|            by|\n",
      "|          mary|\n",
      "|wollstonecraft|\n",
      "|        godwin|\n",
      "|       shelley|\n",
      "|          this|\n",
      "|         ebook|\n",
      "|            is|\n",
      "|           for|\n",
      "|           the|\n",
      "|           use|\n",
      "|            of|\n",
      "|        anyone|\n",
      "|      anywhere|\n",
      "|            at|\n",
      "|            no|\n",
      "|          cost|\n",
      "+--------------+\n",
      "only showing top 20 rows\n",
      "\n"
     ]
    }
   ],
   "source": [
    "proper_words = words_clean.filter(col(\"echtesWort\") != \"\")\n",
    "proper_words.show()"
   ]
  },
  {
   "cell_type": "code",
   "execution_count": 40,
   "id": "c85d6eff",
   "metadata": {},
   "outputs": [
    {
     "name": "stdout",
     "output_type": "stream",
     "text": [
      "+--------------+\n",
      "|    echtesWort|\n",
      "+--------------+\n",
      "|       project|\n",
      "|     gutenberg|\n",
      "|  frankenstein|\n",
      "|            by|\n",
      "|          mary|\n",
      "|wollstonecraft|\n",
      "|        godwin|\n",
      "|       shelley|\n",
      "|          this|\n",
      "|         ebook|\n",
      "|            is|\n",
      "|           for|\n",
      "|           the|\n",
      "|           use|\n",
      "|            of|\n",
      "|        anyone|\n",
      "|      anywhere|\n",
      "|            at|\n",
      "|            no|\n",
      "|          cost|\n",
      "+--------------+\n",
      "only showing top 20 rows\n",
      "\n"
     ]
    }
   ],
   "source": [
    "words_clean.where(col(\"echtesWort\") != \"\").show()"
   ]
  },
  {
   "cell_type": "code",
   "execution_count": 50,
   "id": "8f248912",
   "metadata": {},
   "outputs": [],
   "source": [
    "proper_words.write.coalesce(1).option(\"header\", True).option(\"delimiter\", \";\").csv(\"new\")"
   ]
  },
  {
   "cell_type": "code",
   "execution_count": 54,
   "id": "1c125695",
   "metadata": {},
   "outputs": [
    {
     "name": "stdout",
     "output_type": "stream",
     "text": [
      "+--------------+\n",
      "|    echtesWort|\n",
      "+--------------+\n",
      "|       project|\n",
      "|     gutenberg|\n",
      "|  frankenstein|\n",
      "|            by|\n",
      "|          mary|\n",
      "|wollstonecraft|\n",
      "|        godwin|\n",
      "|       shelley|\n",
      "|          this|\n",
      "|         ebook|\n",
      "|           for|\n",
      "|           the|\n",
      "|           use|\n",
      "|            of|\n",
      "|        anyone|\n",
      "|      anywhere|\n",
      "|            at|\n",
      "|            no|\n",
      "|          cost|\n",
      "|           and|\n",
      "+--------------+\n",
      "only showing top 20 rows\n",
      "\n",
      "+--------------+\n",
      "|      minThree|\n",
      "+--------------+\n",
      "|       project|\n",
      "|     gutenberg|\n",
      "|  frankenstein|\n",
      "|              |\n",
      "|          mary|\n",
      "|wollstonecraft|\n",
      "|        godwin|\n",
      "|       shelley|\n",
      "|          this|\n",
      "|         ebook|\n",
      "|              |\n",
      "|           for|\n",
      "|           the|\n",
      "|           use|\n",
      "|              |\n",
      "|        anyone|\n",
      "|      anywhere|\n",
      "|              |\n",
      "|              |\n",
      "|          cost|\n",
      "+--------------+\n",
      "only showing top 20 rows\n",
      "\n"
     ]
    }
   ],
   "source": [
    "noIs = proper_words.filter(col(\"echtesWort\") != \"is\").alias(\"noIs\")\n",
    "noIs.show()\n",
    "minThree = proper_words.select(regexp_extract(col(\"echtesWort\"), \"[a-z]{3,}\", 0).alias(\"minThree\"))\n",
    "minThree.show()"
   ]
  },
  {
   "cell_type": "code",
   "execution_count": 56,
   "id": "a7152098",
   "metadata": {},
   "outputs": [
    {
     "name": "stdout",
     "output_type": "stream",
     "text": [
      "root\n",
      " |-- 1: string (nullable = true)\n",
      " |-- 2: string (nullable = true)\n",
      " |-- 3: long (nullable = true)\n",
      "\n"
     ]
    }
   ],
   "source": [
    "datenA2 = spark.createDataFrame([[\"test\", \"noch ein Test\", 10_000_000_000]], [\"1\", \"2\", \"3\"])\n",
    "datenA2.printSchema()"
   ]
  },
  {
   "cell_type": "code",
   "execution_count": 57,
   "id": "96b93cdc",
   "metadata": {},
   "outputs": [
    {
     "name": "stdout",
     "output_type": "stream",
     "text": [
      "cnt = 1\n"
     ]
    }
   ],
   "source": [
    "cnt = 0\n",
    "for x,y in datenA2.dtypes:\n",
    "    if y != \"string\":\n",
    "        cnt += 1\n",
    "print(f'cnt = {cnt}')"
   ]
  },
  {
   "cell_type": "code",
   "execution_count": 61,
   "id": "bf2253e8",
   "metadata": {},
   "outputs": [],
   "source": [
    "from pyspark.sql.functions import length\n",
    "datenA3 = spark.read.text(\"frankenstein.txt\").select(length(col(\"value\")).alias(\"numChar\"))"
   ]
  },
  {
   "cell_type": "code",
   "execution_count": 62,
   "id": "5accdd41",
   "metadata": {},
   "outputs": [
    {
     "name": "stdout",
     "output_type": "stream",
     "text": [
      "+-------+\n",
      "|numChar|\n",
      "+-------+\n",
      "|      0|\n",
      "|     73|\n",
      "|      0|\n",
      "|     64|\n",
      "|     68|\n",
      "|     67|\n",
      "|     46|\n",
      "|      0|\n",
      "|      0|\n",
      "|     19|\n",
      "|     31|\n",
      "|      0|\n",
      "|     44|\n",
      "|      0|\n",
      "|     39|\n",
      "|     30|\n",
      "|      0|\n",
      "|     17|\n",
      "|      0|\n",
      "|     29|\n",
      "+-------+\n",
      "only showing top 20 rows\n",
      "\n"
     ]
    }
   ],
   "source": [
    "datenA3.show()"
   ]
  },
  {
   "cell_type": "code",
   "execution_count": 66,
   "id": "238d0a65",
   "metadata": {},
   "outputs": [
    {
     "name": "stdout",
     "output_type": "stream",
     "text": [
      "+---+-----------+\n",
      "|key|     maxVal|\n",
      "+---+-----------+\n",
      "|key|10000000000|\n",
      "+---+-----------+\n",
      "\n"
     ]
    }
   ],
   "source": [
    "from pyspark.sql.functions import greatest\n",
    "from pyspark.sql.utils import AnalysisException\n",
    "datenA4 = spark.createDataFrame([[\"key\", 20_000_000, 10_000_000_000]],[\"key\", \"value1\", \"value2\"])\n",
    "try:\n",
    "    datenA4M = datenA4.select(col(\"key\"), greatest(col(\"value1\"), col(\"value2\")).alias(\"maxVal\")).select(\"key\",\"maxVal\")\n",
    "except AnalysisException as err:\n",
    "    print(f'das war nicht gut: {err}')\n",
    "datenA4M.show()"
   ]
  },
  {
   "cell_type": "code",
   "execution_count": 84,
   "id": "9ec12c26",
   "metadata": {},
   "outputs": [
    {
     "name": "stdout",
     "output_type": "stream",
     "text": [
      "+--------------+\n",
      "|    echtesWort|\n",
      "+--------------+\n",
      "|       project|\n",
      "|     gutenberg|\n",
      "|  frankenstein|\n",
      "|            by|\n",
      "|          mary|\n",
      "|wollstonecraft|\n",
      "|        godwin|\n",
      "|       shelley|\n",
      "|          this|\n",
      "|         ebook|\n",
      "|           for|\n",
      "|           use|\n",
      "|            of|\n",
      "|        anyone|\n",
      "|      anywhere|\n",
      "|            at|\n",
      "|            no|\n",
      "|          cost|\n",
      "|           and|\n",
      "|          with|\n",
      "+--------------+\n",
      "only showing top 20 rows\n",
      "\n"
     ]
    }
   ],
   "source": [
    "wordFilter = [\"is\", \"not\", \"if\", \"the\"]\n",
    "wordIsIn = proper_words.filter(~col(\"echtesWort\").isin(wordFilter))\n",
    "wordIsIn.show()"
   ]
  },
  {
   "cell_type": "code",
   "execution_count": 97,
   "id": "090c7a68",
   "metadata": {},
   "outputs": [
    {
     "name": "stdout",
     "output_type": "stream",
     "text": [
      "root\n",
      " |-- value: string (nullable = true)\n",
      "\n",
      "+--------------+\n",
      "|          word|\n",
      "+--------------+\n",
      "|              |\n",
      "|       Project|\n",
      "|   Gutenberg's|\n",
      "| Frankenstein,|\n",
      "|            by|\n",
      "|          Mary|\n",
      "|Wollstonecraft|\n",
      "|      (Godwin)|\n",
      "|       Shelley|\n",
      "|              |\n",
      "|          This|\n",
      "|         eBook|\n",
      "|            is|\n",
      "|           for|\n",
      "|           the|\n",
      "|           use|\n",
      "|            of|\n",
      "|        anyone|\n",
      "|      anywhere|\n",
      "|            at|\n",
      "+--------------+\n",
      "only showing top 20 rows\n",
      "\n"
     ]
    }
   ],
   "source": [
    "from pyspark.sql.functions import col, split\n",
    "from pyspark.sql.utils import AnalysisException\n",
    "\n",
    "try:\n",
    "\n",
    "    book = spark.read.text(\"frankenstein.txt\")\n",
    "\n",
    "    book.printSchema()\n",
    "\n",
    "    lines = book.select(split(book.value, \" \").alias(\"line\"))\n",
    "\n",
    "    words = lines.select(explode(col(\"line\")).alias(\"word\"))\n",
    "\n",
    "except AnalysisException as err:\n",
    "\n",
    "    print(err)\n",
    "\n",
    "words.show()"
   ]
  },
  {
   "cell_type": "code",
   "execution_count": 98,
   "id": "653ce2ea",
   "metadata": {},
   "outputs": [
    {
     "data": {
      "text/plain": [
       "78236"
      ]
     },
     "execution_count": 98,
     "metadata": {},
     "output_type": "execute_result"
    }
   ],
   "source": [
    "proper_words.count()"
   ]
  },
  {
   "cell_type": "code",
   "execution_count": 99,
   "id": "a8b654e3",
   "metadata": {},
   "outputs": [
    {
     "name": "stdout",
     "output_type": "stream",
     "text": [
      "<pyspark.sql.group.GroupedData object at 0x7f13636b9690>\n"
     ]
    }
   ],
   "source": [
    "groups = proper_words.groupby(col(\"echtesWort\"))\n",
    "print(groups)"
   ]
  },
  {
   "cell_type": "code",
   "execution_count": 107,
   "id": "213c1959",
   "metadata": {},
   "outputs": [
    {
     "name": "stdout",
     "output_type": "stream",
     "text": [
      "+----------+-----+\n",
      "|echtesWort|count|\n",
      "+----------+-----+\n",
      "|       the| 4371|\n",
      "|       and| 3046|\n",
      "|         i| 2850|\n",
      "|        of| 2760|\n",
      "|        to| 2174|\n",
      "|        my| 1776|\n",
      "|         a| 1449|\n",
      "|        in| 1186|\n",
      "|      that| 1033|\n",
      "|       was| 1022|\n",
      "|        me|  868|\n",
      "|      with|  714|\n",
      "|       but|  692|\n",
      "|       had|  686|\n",
      "|       you|  644|\n",
      "|        he|  611|\n",
      "|     which|  565|\n",
      "|        it|  562|\n",
      "|        as|  539|\n",
      "|       his|  535|\n",
      "+----------+-----+\n",
      "only showing top 20 rows\n",
      "\n"
     ]
    }
   ],
   "source": [
    "from pyspark.sql.functions import desc,asc\n",
    "wordCount = groups.count().sort(desc(\"count\"))\n",
    "wordCount.show()"
   ]
  },
  {
   "cell_type": "code",
   "execution_count": 123,
   "id": "56e9996d",
   "metadata": {},
   "outputs": [],
   "source": [
    "from pyspark.sql.functions import length, asc\n",
    "wordLen = proper_words.select(length(col(\"echtesWort\")).alias(\"length\")).groupBy(\"length\").count().sort(asc(\"length\"))"
   ]
  },
  {
   "cell_type": "code",
   "execution_count": 125,
   "id": "7fa96fe2",
   "metadata": {},
   "outputs": [],
   "source": [
    "wordLen.coalesce(1).write.csv(\"test\")"
   ]
  },
  {
   "cell_type": "code",
   "execution_count": 156,
   "id": "5b1884fe",
   "metadata": {},
   "outputs": [
    {
     "name": "stdout",
     "output_type": "stream",
     "text": [
      "+-----------------------+------+\n",
      "|start_station_name     |Rating|\n",
      "+-----------------------+------+\n",
      "|West St & Chambers St  |15284 |\n",
      "|W 21 St & 6 Ave        |14939 |\n",
      "|Broadway & W 58 St     |14262 |\n",
      "|Central Park S & 6 Ave |12674 |\n",
      "|6 Ave & W 33 St        |12176 |\n",
      "|Broadway & W 25 St     |11865 |\n",
      "|West St & Liberty St   |11355 |\n",
      "|1 Ave & E 68 St        |11344 |\n",
      "|University Pl & E 14 St|11245 |\n",
      "|Lafayette St & E 8 St  |11196 |\n",
      "|12 Ave & W 40 St       |10914 |\n",
      "|Broadway & W 29 St     |10448 |\n",
      "|8 Ave & W 16 St        |10378 |\n",
      "|W 31 St & 7 Ave        |10274 |\n",
      "|E 33 St & 1 Ave        |10179 |\n",
      "|6 Ave & W 34 St        |10165 |\n",
      "|E 17 St & Broadway     |9979  |\n",
      "|Broadway & E 21 St     |9965  |\n",
      "|W 22 St & 10 Ave       |9928  |\n",
      "|Broadway & E 14 St     |9873  |\n",
      "+-----------------------+------+\n",
      "only showing top 20 rows\n",
      "\n"
     ]
    }
   ],
   "source": [
    "import pyspark.sql.functions as F\n",
    "result = (\n",
    "    spark.read.option(\"header\", True).csv(\"202209-citibike-tripdata.csv\")\n",
    "    .groupby(F.col(\"start_station_name\"))\n",
    "    .count()\n",
    "    .withColumnRenamed(\"count\", \"Rating\")\n",
    "    .sort(F.desc(\"Rating\"))\n",
    "    .show(truncate=False)\n",
    ")"
   ]
  },
  {
   "cell_type": "code",
   "execution_count": null,
   "id": "9296172e",
   "metadata": {},
   "outputs": [],
   "source": []
  }
 ],
 "metadata": {
  "kernelspec": {
   "display_name": "Python 3 (ipykernel)",
   "language": "python",
   "name": "python3"
  },
  "language_info": {
   "codemirror_mode": {
    "name": "ipython",
    "version": 3
   },
   "file_extension": ".py",
   "mimetype": "text/x-python",
   "name": "python",
   "nbconvert_exporter": "python",
   "pygments_lexer": "ipython3",
   "version": "3.10.8"
  }
 },
 "nbformat": 4,
 "nbformat_minor": 5
}
